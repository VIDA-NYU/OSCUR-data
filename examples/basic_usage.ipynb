{
 "cells": [
  {
   "cell_type": "markdown",
   "id": "02599778",
   "metadata": {},
   "source": [
    "# Basic Usage Example\n",
    "This notebook demonstrates how to use the OSCUR-data repository."
   ]
  },
  {
   "cell_type": "markdown",
   "id": "228fb8ff",
   "metadata": {},
   "source": [
    "## Import Required Libraries\n",
    "We will use Python libraries such as pandas and os for data processing and file management."
   ]
  },
  {
   "cell_type": "code",
   "execution_count": null,
   "id": "9b139f0b",
   "metadata": {},
   "outputs": [],
   "source": [
    "# Import Required Libraries\n",
    "import pandas as pd\n",
    "import os"
   ]
  },
  {
   "cell_type": "markdown",
   "id": "82f809a7",
   "metadata": {},
   "source": [
    "## Access Metadata and Data Profiles\n",
    "The metadata and data profiles are stored in the respective folders: `1-metadata/` and `3-data_profiles/`."
   ]
  },
  {
   "cell_type": "code",
   "execution_count": null,
   "id": "08473cf4",
   "metadata": {},
   "outputs": [],
   "source": [
    "# Define paths to metadata and data profiles\n",
    "metadata_path = os.path.join('..', '1-metadata', 'nyc_dot_traffic_speeds.yaml')\n",
    "data_profile_path = os.path.join('..', '3-data_profiles', 'nyc_dot_traffic_speeds.json')\n",
    "\n",
    "# Print paths to verify\n",
    "print(f\"Metadata Path: {metadata_path}\")\n",
    "print(f\"Data Profile Path: {data_profile_path}\")"
   ]
  }
 ],
 "metadata": {
  "language_info": {
   "name": "python"
  }
 },
 "nbformat": 4,
 "nbformat_minor": 5
}
